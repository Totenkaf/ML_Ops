{
 "cells": [
  {
   "cell_type": "code",
   "execution_count": null,
   "id": "a99e5c94",
   "metadata": {},
   "outputs": [],
   "source": [
    "# Для функционирования watermark - раскомментируйте строку ниже, либо установите библиотеку в консоли вручную\n",
    "# !pip install watermark\n",
    "%load_ext watermark"
   ]
  },
  {
   "cell_type": "code",
   "execution_count": null,
   "id": "8739cd7f",
   "metadata": {},
   "outputs": [],
   "source": [
    "# %watermark -v -m -p numpy,scipy,matplotlib,pandas,sklearn,seaborn,tqdm -g"
   ]
  },
  {
   "cell_type": "code",
   "execution_count": 41,
   "id": "5ea408ed",
   "metadata": {
    "ExecuteTime": {
     "end_time": "2022-10-11T21:25:52.834691Z",
     "start_time": "2022-10-11T21:25:52.810842Z"
    }
   },
   "outputs": [],
   "source": [
    "# Future Python versions compatibility\n",
    "from __future__ import division\n",
    "\n",
    "# Warnings Ignore\n",
    "import warnings\n",
    "warnings.filterwarnings(\"ignore\")\n",
    "\n",
    "# System libraries\n",
    "import os\n",
    "import random\n",
    "\n",
    "# Object libraries\n",
    "import pandas as pd\n",
    "import numpy as np\n",
    "import seaborn as sns\n",
    "\n",
    "# ML libraries\n",
    "from sklearn.svm import SVR\n",
    "from sklearn.model_selection import learning_curve\n",
    "from sklearn.model_selection import ShuffleSplit\n",
    "from sklearn.linear_model import LinearRegression, Lasso, Ridge, ElasticNet\n",
    "from sklearn.metrics import mean_absolute_error, mean_squared_error, make_scorer\n",
    "\n",
    "from sklearn.decomposition import PCA\n",
    "from sklearn.model_selection import train_test_split, GridSearchCV, cross_val_score\n",
    "\n",
    "# Data Transformers\n",
    "from sklearn.preprocessing import LabelEncoder,PowerTransformer, StandardScaler\n",
    "from collections import Counter\n",
    "from sklearn.compose import ColumnTransformer\n",
    "\n",
    "# Visualize libraries\n",
    "import matplotlib.pyplot as plt\n",
    "import matplotlib.colors as colors\n",
    "\n",
    "# Colors map\n",
    "colors_list = list(colors._colors_full_map.values())\n",
    "cust_palt = [\n",
    "            '#111d5e', \n",
    "            '#c70039', \n",
    "            '#f37121', \n",
    "            '#ffbd69', \n",
    "            '#ffc93c',\n",
    "            ]\n",
    "plt.style.use('ggplot')\n",
    "%matplotlib inline"
   ]
  },
  {
   "cell_type": "code",
   "execution_count": 28,
   "id": "ef561da6",
   "metadata": {
    "ExecuteTime": {
     "end_time": "2022-10-11T21:16:56.895908Z",
     "start_time": "2022-10-11T21:16:56.882344Z"
    }
   },
   "outputs": [
    {
     "data": {
      "text/plain": [
       "'/home/tater/Technopark/Sem_2/ML_Ops/notebooks'"
      ]
     },
     "execution_count": 28,
     "metadata": {},
     "output_type": "execute_result"
    }
   ],
   "source": [
    "os.path.abspath(os.getcwd())"
   ]
  },
  {
   "cell_type": "code",
   "execution_count": 29,
   "id": "cad4fbf5",
   "metadata": {
    "ExecuteTime": {
     "end_time": "2022-10-11T21:16:57.153056Z",
     "start_time": "2022-10-11T21:16:57.142774Z"
    }
   },
   "outputs": [],
   "source": [
    "def seed_all(seed):\n",
    "    \n",
    "    ''' A function to seed everything for getting stable results and reproducibility'''\n",
    "    \n",
    "    random.seed(seed)\n",
    "    np.random.seed(seed)\n",
    "    os.environ['PYTHONHASHSEED'] = str(seed)\n",
    "\n",
    "seed = 42    \n",
    "seed_all(seed)"
   ]
  },
  {
   "cell_type": "code",
   "execution_count": 31,
   "id": "a87bc9e5",
   "metadata": {
    "ExecuteTime": {
     "end_time": "2022-10-11T21:19:20.343628Z",
     "start_time": "2022-10-11T21:19:20.337455Z"
    }
   },
   "outputs": [],
   "source": [
    "def missing_values_table(df : pd.DataFrame) -> pd.DataFrame:\n",
    "    \"\"\"Missing values detection function\"\"\"\n",
    "    mis_val = df.isnull().sum()\n",
    "    mis_val_percent = 100 * df.isnull().sum() / len(df)\n",
    "    mis_val_table = pd.concat([mis_val, mis_val_percent], axis=1)\n",
    "    mis_val_table_ren_columns = mis_val_table.rename(\n",
    "    columns = {0 : 'Missing Values', 1 : '% of Total Values'})\n",
    "    mis_val_table_ren_columns = mis_val_table_ren_columns[\n",
    "                                mis_val_table_ren_columns.iloc[:,1] != 0].sort_values(\n",
    "                                '% of Total Values', ascending=False).round(2)\n",
    "\n",
    "    print(\"Your selected dataframe has \"  + str(df.shape[0]) + \" objects with \" + str(df.shape[1]) \n",
    "                                          + \" features.\\n\"\n",
    "                             \"There are \" + str(mis_val_table_ren_columns.shape[0]) +\n",
    "                             \" features that have missing values.\")\n",
    "\n",
    "    return mis_val_table_ren_columns"
   ]
  },
  {
   "cell_type": "code",
   "execution_count": 22,
   "id": "785632d2",
   "metadata": {
    "ExecuteTime": {
     "end_time": "2022-10-11T21:10:33.604770Z",
     "start_time": "2022-10-11T21:10:33.597077Z"
    }
   },
   "outputs": [],
   "source": [
    "data_path = os.path.join(os.path.dirname(os.getcwd()), \"ml_project/data\")\n",
    "raw_data_filename = \"heart_cleveland_upload.csv\""
   ]
  },
  {
   "cell_type": "code",
   "execution_count": 25,
   "id": "a8bb5bc3",
   "metadata": {
    "ExecuteTime": {
     "end_time": "2022-10-11T21:10:46.067931Z",
     "start_time": "2022-10-11T21:10:46.047820Z"
    }
   },
   "outputs": [
    {
     "data": {
      "text/html": [
       "<div>\n",
       "<style scoped>\n",
       "    .dataframe tbody tr th:only-of-type {\n",
       "        vertical-align: middle;\n",
       "    }\n",
       "\n",
       "    .dataframe tbody tr th {\n",
       "        vertical-align: top;\n",
       "    }\n",
       "\n",
       "    .dataframe thead th {\n",
       "        text-align: right;\n",
       "    }\n",
       "</style>\n",
       "<table border=\"1\" class=\"dataframe\">\n",
       "  <thead>\n",
       "    <tr style=\"text-align: right;\">\n",
       "      <th></th>\n",
       "      <th>age</th>\n",
       "      <th>sex</th>\n",
       "      <th>cp</th>\n",
       "      <th>trestbps</th>\n",
       "      <th>chol</th>\n",
       "      <th>fbs</th>\n",
       "      <th>restecg</th>\n",
       "      <th>thalach</th>\n",
       "      <th>exang</th>\n",
       "      <th>oldpeak</th>\n",
       "      <th>slope</th>\n",
       "      <th>ca</th>\n",
       "      <th>thal</th>\n",
       "      <th>condition</th>\n",
       "    </tr>\n",
       "  </thead>\n",
       "  <tbody>\n",
       "    <tr>\n",
       "      <th>0</th>\n",
       "      <td>69</td>\n",
       "      <td>1</td>\n",
       "      <td>0</td>\n",
       "      <td>160</td>\n",
       "      <td>234</td>\n",
       "      <td>1</td>\n",
       "      <td>2</td>\n",
       "      <td>131</td>\n",
       "      <td>0</td>\n",
       "      <td>0.1</td>\n",
       "      <td>1</td>\n",
       "      <td>1</td>\n",
       "      <td>0</td>\n",
       "      <td>0</td>\n",
       "    </tr>\n",
       "    <tr>\n",
       "      <th>1</th>\n",
       "      <td>69</td>\n",
       "      <td>0</td>\n",
       "      <td>0</td>\n",
       "      <td>140</td>\n",
       "      <td>239</td>\n",
       "      <td>0</td>\n",
       "      <td>0</td>\n",
       "      <td>151</td>\n",
       "      <td>0</td>\n",
       "      <td>1.8</td>\n",
       "      <td>0</td>\n",
       "      <td>2</td>\n",
       "      <td>0</td>\n",
       "      <td>0</td>\n",
       "    </tr>\n",
       "    <tr>\n",
       "      <th>2</th>\n",
       "      <td>66</td>\n",
       "      <td>0</td>\n",
       "      <td>0</td>\n",
       "      <td>150</td>\n",
       "      <td>226</td>\n",
       "      <td>0</td>\n",
       "      <td>0</td>\n",
       "      <td>114</td>\n",
       "      <td>0</td>\n",
       "      <td>2.6</td>\n",
       "      <td>2</td>\n",
       "      <td>0</td>\n",
       "      <td>0</td>\n",
       "      <td>0</td>\n",
       "    </tr>\n",
       "    <tr>\n",
       "      <th>3</th>\n",
       "      <td>65</td>\n",
       "      <td>1</td>\n",
       "      <td>0</td>\n",
       "      <td>138</td>\n",
       "      <td>282</td>\n",
       "      <td>1</td>\n",
       "      <td>2</td>\n",
       "      <td>174</td>\n",
       "      <td>0</td>\n",
       "      <td>1.4</td>\n",
       "      <td>1</td>\n",
       "      <td>1</td>\n",
       "      <td>0</td>\n",
       "      <td>1</td>\n",
       "    </tr>\n",
       "    <tr>\n",
       "      <th>4</th>\n",
       "      <td>64</td>\n",
       "      <td>1</td>\n",
       "      <td>0</td>\n",
       "      <td>110</td>\n",
       "      <td>211</td>\n",
       "      <td>0</td>\n",
       "      <td>2</td>\n",
       "      <td>144</td>\n",
       "      <td>1</td>\n",
       "      <td>1.8</td>\n",
       "      <td>1</td>\n",
       "      <td>0</td>\n",
       "      <td>0</td>\n",
       "      <td>0</td>\n",
       "    </tr>\n",
       "    <tr>\n",
       "      <th>...</th>\n",
       "      <td>...</td>\n",
       "      <td>...</td>\n",
       "      <td>...</td>\n",
       "      <td>...</td>\n",
       "      <td>...</td>\n",
       "      <td>...</td>\n",
       "      <td>...</td>\n",
       "      <td>...</td>\n",
       "      <td>...</td>\n",
       "      <td>...</td>\n",
       "      <td>...</td>\n",
       "      <td>...</td>\n",
       "      <td>...</td>\n",
       "      <td>...</td>\n",
       "    </tr>\n",
       "    <tr>\n",
       "      <th>292</th>\n",
       "      <td>40</td>\n",
       "      <td>1</td>\n",
       "      <td>3</td>\n",
       "      <td>152</td>\n",
       "      <td>223</td>\n",
       "      <td>0</td>\n",
       "      <td>0</td>\n",
       "      <td>181</td>\n",
       "      <td>0</td>\n",
       "      <td>0.0</td>\n",
       "      <td>0</td>\n",
       "      <td>0</td>\n",
       "      <td>2</td>\n",
       "      <td>1</td>\n",
       "    </tr>\n",
       "    <tr>\n",
       "      <th>293</th>\n",
       "      <td>39</td>\n",
       "      <td>1</td>\n",
       "      <td>3</td>\n",
       "      <td>118</td>\n",
       "      <td>219</td>\n",
       "      <td>0</td>\n",
       "      <td>0</td>\n",
       "      <td>140</td>\n",
       "      <td>0</td>\n",
       "      <td>1.2</td>\n",
       "      <td>1</td>\n",
       "      <td>0</td>\n",
       "      <td>2</td>\n",
       "      <td>1</td>\n",
       "    </tr>\n",
       "    <tr>\n",
       "      <th>294</th>\n",
       "      <td>35</td>\n",
       "      <td>1</td>\n",
       "      <td>3</td>\n",
       "      <td>120</td>\n",
       "      <td>198</td>\n",
       "      <td>0</td>\n",
       "      <td>0</td>\n",
       "      <td>130</td>\n",
       "      <td>1</td>\n",
       "      <td>1.6</td>\n",
       "      <td>1</td>\n",
       "      <td>0</td>\n",
       "      <td>2</td>\n",
       "      <td>1</td>\n",
       "    </tr>\n",
       "    <tr>\n",
       "      <th>295</th>\n",
       "      <td>35</td>\n",
       "      <td>0</td>\n",
       "      <td>3</td>\n",
       "      <td>138</td>\n",
       "      <td>183</td>\n",
       "      <td>0</td>\n",
       "      <td>0</td>\n",
       "      <td>182</td>\n",
       "      <td>0</td>\n",
       "      <td>1.4</td>\n",
       "      <td>0</td>\n",
       "      <td>0</td>\n",
       "      <td>0</td>\n",
       "      <td>0</td>\n",
       "    </tr>\n",
       "    <tr>\n",
       "      <th>296</th>\n",
       "      <td>35</td>\n",
       "      <td>1</td>\n",
       "      <td>3</td>\n",
       "      <td>126</td>\n",
       "      <td>282</td>\n",
       "      <td>0</td>\n",
       "      <td>2</td>\n",
       "      <td>156</td>\n",
       "      <td>1</td>\n",
       "      <td>0.0</td>\n",
       "      <td>0</td>\n",
       "      <td>0</td>\n",
       "      <td>2</td>\n",
       "      <td>1</td>\n",
       "    </tr>\n",
       "  </tbody>\n",
       "</table>\n",
       "<p>297 rows × 14 columns</p>\n",
       "</div>"
      ],
      "text/plain": [
       "     age  sex  cp  trestbps  chol  fbs  restecg  thalach  exang  oldpeak  \\\n",
       "0     69    1   0       160   234    1        2      131      0      0.1   \n",
       "1     69    0   0       140   239    0        0      151      0      1.8   \n",
       "2     66    0   0       150   226    0        0      114      0      2.6   \n",
       "3     65    1   0       138   282    1        2      174      0      1.4   \n",
       "4     64    1   0       110   211    0        2      144      1      1.8   \n",
       "..   ...  ...  ..       ...   ...  ...      ...      ...    ...      ...   \n",
       "292   40    1   3       152   223    0        0      181      0      0.0   \n",
       "293   39    1   3       118   219    0        0      140      0      1.2   \n",
       "294   35    1   3       120   198    0        0      130      1      1.6   \n",
       "295   35    0   3       138   183    0        0      182      0      1.4   \n",
       "296   35    1   3       126   282    0        2      156      1      0.0   \n",
       "\n",
       "     slope  ca  thal  condition  \n",
       "0        1   1     0          0  \n",
       "1        0   2     0          0  \n",
       "2        2   0     0          0  \n",
       "3        1   1     0          1  \n",
       "4        1   0     0          0  \n",
       "..     ...  ..   ...        ...  \n",
       "292      0   0     2          1  \n",
       "293      1   0     2          1  \n",
       "294      1   0     2          1  \n",
       "295      0   0     0          0  \n",
       "296      0   0     2          1  \n",
       "\n",
       "[297 rows x 14 columns]"
      ]
     },
     "execution_count": 25,
     "metadata": {},
     "output_type": "execute_result"
    }
   ],
   "source": [
    "raw_data = pd.read_csv(os.path.join(data_path, raw_data_filename))\n",
    "raw_data"
   ]
  },
  {
   "cell_type": "code",
   "execution_count": 32,
   "id": "b59e95d8",
   "metadata": {
    "ExecuteTime": {
     "end_time": "2022-10-11T21:19:31.500452Z",
     "start_time": "2022-10-11T21:19:31.472377Z"
    }
   },
   "outputs": [
    {
     "name": "stdout",
     "output_type": "stream",
     "text": [
      "Your selected dataframe has 297 objects with 14 features.\n",
      "There are 0 features that have missing values.\n"
     ]
    },
    {
     "data": {
      "text/html": [
       "<div>\n",
       "<style scoped>\n",
       "    .dataframe tbody tr th:only-of-type {\n",
       "        vertical-align: middle;\n",
       "    }\n",
       "\n",
       "    .dataframe tbody tr th {\n",
       "        vertical-align: top;\n",
       "    }\n",
       "\n",
       "    .dataframe thead th {\n",
       "        text-align: right;\n",
       "    }\n",
       "</style>\n",
       "<table border=\"1\" class=\"dataframe\">\n",
       "  <thead>\n",
       "    <tr style=\"text-align: right;\">\n",
       "      <th></th>\n",
       "      <th>Missing Values</th>\n",
       "      <th>% of Total Values</th>\n",
       "    </tr>\n",
       "  </thead>\n",
       "  <tbody>\n",
       "  </tbody>\n",
       "</table>\n",
       "</div>"
      ],
      "text/plain": [
       "Empty DataFrame\n",
       "Columns: [Missing Values, % of Total Values]\n",
       "Index: []"
      ]
     },
     "execution_count": 32,
     "metadata": {},
     "output_type": "execute_result"
    }
   ],
   "source": [
    "missing_values_table(raw_data)"
   ]
  },
  {
   "cell_type": "code",
   "execution_count": 33,
   "id": "ff5d9446",
   "metadata": {
    "ExecuteTime": {
     "end_time": "2022-10-11T21:20:58.468736Z",
     "start_time": "2022-10-11T21:20:58.465247Z"
    }
   },
   "outputs": [],
   "source": [
    "# Renaming columns.\n",
    "raw_data.columns = [\n",
    "                    'age', 'sex', 'chest_pain_type', 'resting_blood_pressure', 'cholesterol', \n",
    "                    'fasting_blood_sugar', 'rest_ecg', 'max_heart_rate_achieved',\n",
    "                    'exercise_induced_angina', 'st_depression', 'st_slope', 'num_major_vessels', \n",
    "                    'thalassemia', 'condition',\n",
    "                   ]"
   ]
  },
  {
   "cell_type": "code",
   "execution_count": 34,
   "id": "0c204760",
   "metadata": {
    "ExecuteTime": {
     "end_time": "2022-10-11T21:21:11.615288Z",
     "start_time": "2022-10-11T21:21:11.604463Z"
    }
   },
   "outputs": [
    {
     "data": {
      "text/plain": [
       "age                         41\n",
       "sex                          2\n",
       "chest_pain_type              4\n",
       "resting_blood_pressure      50\n",
       "cholesterol                152\n",
       "fasting_blood_sugar          2\n",
       "rest_ecg                     3\n",
       "max_heart_rate_achieved     91\n",
       "exercise_induced_angina      2\n",
       "st_depression               40\n",
       "st_slope                     3\n",
       "num_major_vessels            4\n",
       "thalassemia                  3\n",
       "condition                    2\n",
       "dtype: int64"
      ]
     },
     "execution_count": 34,
     "metadata": {},
     "output_type": "execute_result"
    }
   ],
   "source": [
    "# Number of unique train observartions:\n",
    "raw_data.nunique()"
   ]
  },
  {
   "cell_type": "code",
   "execution_count": 35,
   "id": "32cc45d6",
   "metadata": {
    "ExecuteTime": {
     "end_time": "2022-10-11T21:23:16.199485Z",
     "start_time": "2022-10-11T21:23:16.181512Z"
    }
   },
   "outputs": [],
   "source": [
    "# Renaming cateorical data for easier understanding:\n",
    "\n",
    "raw_data['sex'] = raw_data['sex'].map({0:'female',\n",
    "                                       1:'male'})\n",
    "raw_data['chest_pain_type'] = raw_data['chest_pain_type'].map({0:'typical_angina',\n",
    "                                                         1:'atypical_angina', \n",
    "                                                         2:'non_anginal_pain',\n",
    "                                                         3:'asymptomatic',\n",
    "                                                         })\n",
    "raw_data['fasting_blood_sugar'] = raw_data['fasting_blood_sugar'].map({0:'less_than_120mg/ml',\n",
    "                                                                 1:'greater_than_120mg/ml',\n",
    "                                                                })\n",
    "raw_data['rest_ecg'] = raw_data['rest_ecg'].map({0:'normal',\n",
    "                                           1:'ST-T_wave_abnormality',\n",
    "                                           2:'left_ventricular_hypertrophy',\n",
    "                                          })\n",
    "raw_data['exercise_induced_angina'] = raw_data['exercise_induced_angina'].map({0:'no',\n",
    "                                                                         1:'yes'})\n",
    "raw_data['st_slope'] = raw_data['st_slope'].map({0:'upsloping',\n",
    "                                           1:'flat',\n",
    "                                           2:'downsloping',\n",
    "                                          })\n",
    "raw_data['thalassemia'] = raw_data['thalassemia'].map({1:'fixed_defect',\n",
    "                                                 0:'normal',\n",
    "                                                 2:'reversable_defect',\n",
    "                                                })\n",
    "raw_data['condition'] = raw_data['condition'].map({0:'no_disease', \n",
    "                                             1:'has_disease'})"
   ]
  },
  {
   "cell_type": "code",
   "execution_count": 36,
   "id": "503fb90e",
   "metadata": {
    "ExecuteTime": {
     "end_time": "2022-10-11T21:24:08.646751Z",
     "start_time": "2022-10-11T21:24:08.622607Z"
    }
   },
   "outputs": [],
   "source": [
    "# Masks for easier selection in future:\n",
    "categorical = [item for item in raw_data.loc[:, raw_data.nunique() <= 10]]\n",
    "continuous = [item for item in raw_data.loc[:, raw_data.nunique() >= 10]]"
   ]
  },
  {
   "cell_type": "code",
   "execution_count": 37,
   "id": "d7e632c7",
   "metadata": {
    "ExecuteTime": {
     "end_time": "2022-10-11T21:24:43.805119Z",
     "start_time": "2022-10-11T21:24:43.798391Z"
    }
   },
   "outputs": [],
   "source": [
    "def ctg_dist(df, cols, hue=None,rows=3, columns=3):\n",
    "    \n",
    "    '''A function for displaying cateorical distribution'''\n",
    "    \n",
    "    fig, axes = plt.subplots(rows, columns, figsize=(16, 12))\n",
    "    axes = axes.flatten()\n",
    "\n",
    "    for i, j in zip(df[cols].columns, axes):\n",
    "        sns.countplot(x=i,\n",
    "                    data=df,\n",
    "                    palette=cust_palt,\n",
    "                    hue=hue,\n",
    "                    ax=j,\n",
    "                    order=df[i].value_counts().index)\n",
    "        j.tick_params(labelrotation=10)\n",
    "        \n",
    "        total = float(len(df[i]))\n",
    "        \n",
    "        j.set_title(f'{str(i).capitalize()} Distribution')\n",
    "        \n",
    "        \n",
    "        for p in j.patches:\n",
    "            height = p.get_height()\n",
    "            j.text(p.get_x() + p.get_width() / 2.,\n",
    "                    height + 2,\n",
    "                    '{:1.2f}%'.format((height / total) * 100),\n",
    "                    ha='center')\n",
    "        \n",
    "        plt.tight_layout()"
   ]
  },
  {
   "cell_type": "code",
   "execution_count": 42,
   "id": "63269271",
   "metadata": {
    "ExecuteTime": {
     "end_time": "2022-10-11T21:25:59.072892Z",
     "start_time": "2022-10-11T21:25:57.192045Z"
    }
   },
   "outputs": [
    {
     "data": {
      "image/png": "[encoded data removed]",
      "text/plain": [
       "<Figure size 1152x864 with 9 Axes>"
      ]
     },
     "metadata": {
      "needs_background": "light"
     },
     "output_type": "display_data"
    }
   ],
   "source": [
    "# Display categorical data\n",
    "ctg_dist(raw_data, categorical)"
   ]
  },
  {
   "cell_type": "code",
   "execution_count": null,
   "id": "1a225b37",
   "metadata": {},
   "outputs": [],
   "source": []
  }
 ],
 "metadata": {
  "kernelspec": {
   "display_name": "Python 3 (ipykernel)",
   "language": "python",
   "name": "python3"
  },
  "language_info": {
   "codemirror_mode": {
    "name": "ipython",
    "version": 3
   },
   "file_extension": ".py",
   "mimetype": "text/x-python",
   "name": "python",
   "nbconvert_exporter": "python",
   "pygments_lexer": "ipython3",
   "version": "3.8.10"
  },
  "latex_envs": {
   "LaTeX_envs_menu_present": true,
   "autoclose": false,
   "autocomplete": true,
   "bibliofile": "biblio.bib",
   "cite_by": "apalike",
   "current_citInitial": 1,
   "eqLabelWithNumbers": true,
   "eqNumInitial": 1,
   "hotkeys": {
    "equation": "Ctrl-E",
    "itemize": "Ctrl-I"
   },
   "labels_anchors": false,
   "latex_user_defs": false,
   "report_style_numbering": false,
   "user_envs_cfg": false
  },
  "nbTranslate": {
   "displayLangs": [
    "*"
   ],
   "hotkey": "alt-t",
   "langInMainMenu": true,
   "sourceLang": "en",
   "targetLang": "fr",
   "useGoogleTranslate": true
  },
  "toc": {
   "base_numbering": 1,
   "nav_menu": {},
   "number_sections": true,
   "sideBar": true,
   "skip_h1_title": false,
   "title_cell": "Table of Contents",
   "title_sidebar": "Contents",
   "toc_cell": false,
   "toc_position": {},
   "toc_section_display": true,
   "toc_window_display": false
  },
  "varInspector": {
   "cols": {
    "lenName": 16,
    "lenType": 16,
    "lenVar": 40
   },
   "kernels_config": {
    "python": {
     "delete_cmd_postfix": "",
     "delete_cmd_prefix": "del ",
     "library": "var_list.py",
     "varRefreshCmd": "print(var_dic_list())"
    },
    "r": {
     "delete_cmd_postfix": ") ",
     "delete_cmd_prefix": "rm(",
     "library": "var_list.r",
     "varRefreshCmd": "cat(var_dic_list()) "
    }
   },
   "types_to_exclude": [
    "module",
    "function",
    "builtin_function_or_method",
    "instance",
    "_Feature"
   ],
   "window_display": false
  }
 },
 "nbformat": 4,
 "nbformat_minor": 5
}
