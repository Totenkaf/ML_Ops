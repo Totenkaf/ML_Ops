{
 "cells": [
  {
   "cell_type": "markdown",
   "id": "02dde765",
   "metadata": {},
   "source": [
    "# Predifines"
   ]
  },
  {
   "cell_type": "code",
   "execution_count": null,
   "id": "a99e5c94",
   "metadata": {},
   "outputs": [],
   "source": [
    "# Для функционирования watermark - раскомментируйте строку ниже, либо установите библиотеку в консоли вручную\n",
    "# !pip install watermark\n",
    "%load_ext watermark"
   ]
  },
  {
   "cell_type": "code",
   "execution_count": null,
   "id": "8739cd7f",
   "metadata": {},
   "outputs": [],
   "source": [
    "%watermark -v -m -p numpy,matplotlib,pandas,sklearn,seaborn -g"
   ]
  },
  {
   "cell_type": "markdown",
   "id": "42e8bca4",
   "metadata": {},
   "source": [
    "# Modules"
   ]
  },
  {
   "cell_type": "code",
   "execution_count": null,
   "id": "5ea408ed",
   "metadata": {
    "ExecuteTime": {
     "end_time": "2022-10-11T21:25:52.834691Z",
     "start_time": "2022-10-11T21:25:52.810842Z"
    }
   },
   "outputs": [],
   "source": [
    "# Future Python versions compatibility\n",
    "from __future__ import division\n",
    "\n",
    "# Warnings Ignore\n",
    "import warnings\n",
    "warnings.filterwarnings(\"ignore\")\n",
    "\n",
    "# System libraries\n",
    "import os\n",
    "import random\n",
    "\n",
    "# Object libraries\n",
    "import pandas as pd\n",
    "import numpy as np\n",
    "import seaborn as sns\n",
    "\n",
    "\n",
    "# Data Transformers\n",
    "from sklearn.preprocessing import LabelEncoder,PowerTransformer, StandardScaler\n",
    "from collections import Counter\n",
    "from sklearn.compose import ColumnTransformer\n",
    "\n",
    "# Visualize libraries\n",
    "import matplotlib.pyplot as plt\n",
    "import matplotlib.colors as colors\n",
    "import plotly.express as px\n",
    "\n",
    "# Colors map\n",
    "colors_list = list(colors._colors_full_map.values())\n",
    "cust_palt = [\n",
    "            '#111d5e', \n",
    "            '#c70039', \n",
    "            '#f37121', \n",
    "            '#ffbd69', \n",
    "            '#ffc93c',\n",
    "            ]\n",
    "plt.style.use('ggplot')\n",
    "%matplotlib inline\n",
    "\n",
    "import matplotlib.gridspec as gridspec\n",
    "from matplotlib.ticker import MaxNLocator"
   ]
  },
  {
   "cell_type": "code",
   "execution_count": null,
   "id": "ef561da6",
   "metadata": {
    "ExecuteTime": {
     "end_time": "2022-10-11T21:16:56.895908Z",
     "start_time": "2022-10-11T21:16:56.882344Z"
    }
   },
   "outputs": [],
   "source": [
    "os.path.abspath(os.getcwd())"
   ]
  },
  {
   "cell_type": "markdown",
   "id": "fc252540",
   "metadata": {},
   "source": [
    "# Functions and Classes"
   ]
  },
  {
   "cell_type": "code",
   "execution_count": null,
   "id": "cad4fbf5",
   "metadata": {
    "ExecuteTime": {
     "end_time": "2022-10-11T21:16:57.153056Z",
     "start_time": "2022-10-11T21:16:57.142774Z"
    }
   },
   "outputs": [],
   "source": [
    "def seed_all(seed):\n",
    "    \"\"\"A function to seed everything for getting stable results and reproducibility\"\"\"\n",
    "    \n",
    "    random.seed(seed)\n",
    "    np.random.seed(seed)\n",
    "    os.environ['PYTHONHASHSEED'] = str(seed)\n",
    "\n",
    "seed = 42    \n",
    "seed_all(seed)"
   ]
  },
  {
   "cell_type": "code",
   "execution_count": null,
   "id": "a87bc9e5",
   "metadata": {
    "ExecuteTime": {
     "end_time": "2022-10-11T21:19:20.343628Z",
     "start_time": "2022-10-11T21:19:20.337455Z"
    }
   },
   "outputs": [],
   "source": [
    "def missing_values_table(df : pd.DataFrame) -> pd.DataFrame:\n",
    "    \"\"\"Missing values detection function\"\"\"\n",
    "\n",
    "    mis_val = df.isnull().sum()\n",
    "    mis_val_percent = 100 * df.isnull().sum() / len(df)\n",
    "    mis_val_table = pd.concat([mis_val, mis_val_percent], axis=1)\n",
    "    mis_val_table_ren_columns = mis_val_table.rename(\n",
    "    columns = {0 : 'Missing Values', 1 : '% of Total Values'})\n",
    "    mis_val_table_ren_columns = mis_val_table_ren_columns[\n",
    "                                mis_val_table_ren_columns.iloc[:,1] != 0].sort_values(\n",
    "                                '% of Total Values', ascending=False).round(2)\n",
    "\n",
    "    print(\"Your selected dataframe has \"  + str(df.shape[0]) + \" objects with \" + str(df.shape[1]) \n",
    "                                          + \" features.\\n\"\n",
    "                             \"There are \" + str(mis_val_table_ren_columns.shape[0]) +\n",
    "                             \" features that have missing values.\")\n",
    "\n",
    "    return mis_val_table_ren_columns"
   ]
  },
  {
   "cell_type": "code",
   "execution_count": null,
   "id": "43c50b2d",
   "metadata": {},
   "outputs": [],
   "source": [
    "def ctg_view(df, cols, hue=None, rows=3, columns=3):\n",
    "    \"\"\"A function for displaying cateorical distribution\"\"\"\n",
    "    \n",
    "    fig, axes = plt.subplots(rows, columns, figsize=(16, 12))\n",
    "    axes = axes.flatten()\n",
    "\n",
    "    for i, j in zip(df[cols].columns, axes):\n",
    "        sns.countplot(x=i,\n",
    "                    data=df,\n",
    "                    palette=cust_palt,\n",
    "                    hue=hue,\n",
    "                    ax=j,\n",
    "                    order=df[i].value_counts().index)\n",
    "        j.tick_params(labelrotation=10)\n",
    "        \n",
    "        total = float(len(df[i]))\n",
    "        j.set_title(f'{str(i).capitalize()} Distribution')\n",
    "        \n",
    "        for p in j.patches:\n",
    "            height = p.get_height()\n",
    "            j.text(p.get_x() + p.get_width() / 2.,\n",
    "                    height + 2,\n",
    "                    '{:1.2f}%'.format((height / total) * 100),\n",
    "                    ha='center')\n",
    "        \n",
    "        plt.tight_layout()"
   ]
  },
  {
   "cell_type": "code",
   "execution_count": null,
   "id": "385c993c",
   "metadata": {},
   "outputs": [],
   "source": [
    "def ctn_freq(df, cols, xaxi, hue=None,rows=4, columns=1):\n",
    "    \"\"\"A function for displaying numerical data frequency vs age and condition\"\"\"\n",
    "    \n",
    "    fig, axes = plt.subplots(rows, columns, figsize=(16, 12), sharex=True)\n",
    "    axes = axes.flatten()\n",
    "\n",
    "    for i, j in zip(df[cols].columns, axes):\n",
    "        sns.pointplot(x=xaxi,\n",
    "                      y=i,\n",
    "                    data=df,\n",
    "                    palette=cust_palt[:2],\n",
    "                    hue=hue,\n",
    "                    ax=j,ci=False)      \n",
    "        j.set_title(f'{str(i).capitalize()} vs. Age')\n",
    "\n",
    "        \n",
    "        plt.tight_layout()"
   ]
  },
  {
   "cell_type": "markdown",
   "id": "b0f93889",
   "metadata": {},
   "source": [
    "# 0. Data Processing"
   ]
  },
  {
   "cell_type": "code",
   "execution_count": null,
   "id": "785632d2",
   "metadata": {
    "ExecuteTime": {
     "end_time": "2022-10-11T21:10:33.604770Z",
     "start_time": "2022-10-11T21:10:33.597077Z"
    }
   },
   "outputs": [],
   "source": [
    "data_path = os.path.join(os.path.dirname(os.getcwd()), \"data/raw\")\n",
    "raw_data_filename = \"heart_cleveland_upload.csv\""
   ]
  },
  {
   "cell_type": "code",
   "execution_count": null,
   "id": "a8bb5bc3",
   "metadata": {
    "ExecuteTime": {
     "end_time": "2022-10-11T21:10:46.067931Z",
     "start_time": "2022-10-11T21:10:46.047820Z"
    }
   },
   "outputs": [],
   "source": [
    "raw_data = pd.read_csv(os.path.join(data_path, raw_data_filename))\n",
    "raw_data"
   ]
  },
  {
   "cell_type": "code",
   "execution_count": null,
   "id": "b59e95d8",
   "metadata": {
    "ExecuteTime": {
     "end_time": "2022-10-11T21:19:31.500452Z",
     "start_time": "2022-10-11T21:19:31.472377Z"
    }
   },
   "outputs": [],
   "source": [
    "missing_values_table(raw_data)"
   ]
  },
  {
   "cell_type": "code",
   "execution_count": null,
   "id": "ff5d9446",
   "metadata": {
    "ExecuteTime": {
     "end_time": "2022-10-11T21:20:58.468736Z",
     "start_time": "2022-10-11T21:20:58.465247Z"
    }
   },
   "outputs": [],
   "source": [
    "# Renaming columns.\n",
    "raw_data.columns = [\n",
    "                    'age', 'sex', 'chest_pain_type', 'resting_blood_pressure', 'cholesterol', \n",
    "                    'fasting_blood_sugar', 'rest_ecg', 'max_heart_rate_achieved',\n",
    "                    'exercise_induced_angina', 'st_depression', 'st_slope', 'num_major_vessels', \n",
    "                    'thalassemia', 'condition',\n",
    "                   ]"
   ]
  },
  {
   "cell_type": "code",
   "execution_count": null,
   "id": "0c4cf2db",
   "metadata": {},
   "outputs": [],
   "source": [
    "raw_data.info()"
   ]
  },
  {
   "cell_type": "code",
   "execution_count": null,
   "id": "0c204760",
   "metadata": {
    "ExecuteTime": {
     "end_time": "2022-10-11T21:21:11.615288Z",
     "start_time": "2022-10-11T21:21:11.604463Z"
    }
   },
   "outputs": [],
   "source": [
    "# Number of unique train observartions:\n",
    "raw_data.nunique()"
   ]
  },
  {
   "cell_type": "code",
   "execution_count": null,
   "id": "32cc45d6",
   "metadata": {
    "ExecuteTime": {
     "end_time": "2022-10-11T21:23:16.199485Z",
     "start_time": "2022-10-11T21:23:16.181512Z"
    }
   },
   "outputs": [],
   "source": [
    "# Renaming cateorical data for easier understanding:\n",
    "\n",
    "raw_data['sex'] = raw_data['sex'].map({0:'female',\n",
    "                                       1:'male'})\n",
    "raw_data['chest_pain_type'] = raw_data['chest_pain_type'].map({0:'typical_angina',\n",
    "                                                         1:'atypical_angina', \n",
    "                                                         2:'non_anginal_pain',\n",
    "                                                         3:'asymptomatic',\n",
    "                                                         })\n",
    "raw_data['fasting_blood_sugar'] = raw_data['fasting_blood_sugar'].map({0:'less_than_120mg/ml',\n",
    "                                                                 1:'greater_than_120mg/ml',\n",
    "                                                                })\n",
    "raw_data['rest_ecg'] = raw_data['rest_ecg'].map({0:'normal',\n",
    "                                           1:'ST-T_wave_abnormality',\n",
    "                                           2:'left_ventricular_hypertrophy',\n",
    "                                          })\n",
    "raw_data['exercise_induced_angina'] = raw_data['exercise_induced_angina'].map({0:'no',\n",
    "                                                                         1:'yes'})\n",
    "raw_data['st_slope'] = raw_data['st_slope'].map({0:'upsloping',\n",
    "                                           1:'flat',\n",
    "                                           2:'downsloping',\n",
    "                                          })\n",
    "raw_data['thalassemia'] = raw_data['thalassemia'].map({1:'fixed_defect',\n",
    "                                                 0:'normal',\n",
    "                                                 2:'reversable_defect',\n",
    "                                                })\n",
    "raw_data['condition'] = raw_data['condition'].map({0:'no_disease', \n",
    "                                             1:'has_disease'})"
   ]
  },
  {
   "cell_type": "code",
   "execution_count": null,
   "id": "503fb90e",
   "metadata": {
    "ExecuteTime": {
     "end_time": "2022-10-11T21:24:08.646751Z",
     "start_time": "2022-10-11T21:24:08.622607Z"
    }
   },
   "outputs": [],
   "source": [
    "# Masks for easier selection in future:\n",
    "categorical = [\"sex\", \"chest_pain_type\", \"fasting_blood_sugar\", \"rest_ecg\", \n",
    "               \"exercise_induced_angina\", \"st_slope\", \"thalassemia\", \"condition\"]\n",
    "\n",
    "numerical = ['age', 'resting_blood_pressure', 'cholesterol', \n",
    "            'max_heart_rate_achieved', 'st_depression', 'num_major_vessels']"
   ]
  },
  {
   "cell_type": "markdown",
   "id": "db464226",
   "metadata": {},
   "source": [
    "# 1. Univariate Analysis\n",
    "\n",
    "> Univariate analysis is the simplest form of analyzing data. “Uni” means “one”, so in other words your data has only one variable. It doesn't deal with causes or relationships (unlike regression) and it's major purpose is to describe; It takes data, summarizes that data and finds patterns in the data.\n",
    "\n",
    "__For this part we going to inspect how's the data distribution is and what patterns we can inspect.__"
   ]
  },
  {
   "cell_type": "markdown",
   "id": "1b561b0d",
   "metadata": {},
   "source": [
    "## 1.1 Categorical Data"
   ]
  },
  {
   "cell_type": "code",
   "execution_count": null,
   "id": "dc6ab09a",
   "metadata": {},
   "outputs": [],
   "source": [
    "raw_data[categorical]"
   ]
  },
  {
   "cell_type": "code",
   "execution_count": null,
   "id": "63269271",
   "metadata": {
    "ExecuteTime": {
     "end_time": "2022-10-11T21:25:59.072892Z",
     "start_time": "2022-10-11T21:25:57.192045Z"
    }
   },
   "outputs": [],
   "source": [
    "# Display categorical data\n",
    "ctg_view(raw_data, categorical)"
   ]
  },
  {
   "cell_type": "markdown",
   "id": "e4fc66cb",
   "metadata": {},
   "source": [
    "### Here we can do these observations:\n",
    "- Males on the dataset is more than double of the female observations.\n",
    "- Most common ches pain type is 'Asymptomatic' ones which is almost 50% of the data\n",
    "- 85% of the patients has no high levels of fastin blood sugar.\n",
    "- Resing electrocardiographic observations are evenly distributed between normal and left ventricular hypertrophy with ST-T minority\n",
    "- 67% of the patients had no exercise induced angina\n",
    "- Peak exercise slope seems mainly divided between upsloping and flat."
   ]
  },
  {
   "cell_type": "markdown",
   "id": "eeff44d9",
   "metadata": {},
   "source": [
    "## 1.2 Numerical Data"
   ]
  },
  {
   "cell_type": "code",
   "execution_count": null,
   "id": "8b7e6169",
   "metadata": {},
   "outputs": [],
   "source": [
    "numerical"
   ]
  },
  {
   "cell_type": "code",
   "execution_count": null,
   "id": "cc596290",
   "metadata": {},
   "outputs": [],
   "source": [
    "raw_data[numerical]"
   ]
  },
  {
   "cell_type": "code",
   "execution_count": null,
   "id": "11ba4718",
   "metadata": {},
   "outputs": [],
   "source": [
    "# Displaying numeric distribution:\n",
    "\n",
    "fig = plt.figure(constrained_layout=True, figsize=(16, 12))\n",
    "grid = gridspec.GridSpec(ncols=6, nrows=3, figure=fig)\n",
    "\n",
    "ax1 = fig.add_subplot(grid[0, :2])\n",
    "ax1.set_title('Trestbps Distribution')\n",
    "sns.distplot(raw_data[numerical[1]],\n",
    "                 hist_kws={\n",
    "                 'rwidth': 0.85,\n",
    "                 'edgecolor': 'black',\n",
    "                 'alpha': 0.8},\n",
    "                 color=cust_palt[0])\n",
    "\n",
    "ax15 = fig.add_subplot(grid[0, 2:3])\n",
    "ax15.set_title('Trestbps')\n",
    "sns.boxplot(raw_data[numerical[1]], orient='v', color=cust_palt[0])\n",
    "\n",
    "\n",
    "ax2 = fig.add_subplot(grid[0, 3:5])\n",
    "ax2.set_title('Chol Distribution')\n",
    "sns.distplot(raw_data[numerical[2]],\n",
    "                 hist_kws={\n",
    "                 'rwidth': 0.85,\n",
    "                 'edgecolor': 'black',\n",
    "                 'alpha': 0.8},\n",
    "                 color=cust_palt[1])\n",
    "\n",
    "ax25 = fig.add_subplot(grid[0, 5:])\n",
    "ax25.set_title('Chol')\n",
    "sns.boxplot(raw_data[numerical[2]], orient='v', color=cust_palt[1])\n",
    "\n",
    "\n",
    "ax3 = fig.add_subplot(grid[1, :2])\n",
    "ax3.set_title('Thalach Distribution')\n",
    "sns.distplot(raw_data[numerical[3]],\n",
    "                 hist_kws={\n",
    "                 'rwidth': 0.85,\n",
    "                 'edgecolor': 'black',\n",
    "                 'alpha': 0.8},\n",
    "                 color=cust_palt[2])\n",
    "\n",
    "ax35 = fig.add_subplot(grid[1, 2:3])\n",
    "ax35.set_title('Thalach')\n",
    "sns.boxplot(raw_data[numerical[3]], orient='v', color=cust_palt[2])\n",
    "\n",
    "\n",
    "ax4 = fig.add_subplot(grid[1, 3:5])\n",
    "ax4.set_title('Oldpeak Distribution')\n",
    "sns.distplot(raw_data[numerical[4]],\n",
    "                 hist_kws={\n",
    "                 'rwidth': 0.85,\n",
    "                 'edgecolor': 'black',\n",
    "                 'alpha': 0.8},\n",
    "                 color=cust_palt[3])\n",
    "\n",
    "ax45 = fig.add_subplot(grid[1, 5:])\n",
    "ax45.set_title('Oldpeak')\n",
    "sns.boxplot(raw_data[numerical[4]], orient='v', color=cust_palt[3])\n",
    "\n",
    "\n",
    "ax5 = fig.add_subplot(grid[2, :4])\n",
    "ax5.set_title('Age Distribution')\n",
    "sns.distplot(raw_data[numerical[0]],\n",
    "                 hist_kws={\n",
    "                 'rwidth': 0.95,\n",
    "                 'edgecolor': 'black',\n",
    "                 'alpha': 0.8},\n",
    "                 color=cust_palt[4])\n",
    "\n",
    "ax55 = fig.add_subplot(grid[2, 4:])\n",
    "ax55.set_title('Age')\n",
    "sns.boxplot(raw_data[numerical[0]], orient='h', color=cust_palt[4])\n",
    "\n",
    "\n",
    "plt.show()"
   ]
  },
  {
   "cell_type": "markdown",
   "id": "368c3d0f",
   "metadata": {},
   "source": [
    "Most of the continuous variables somewhat close to gaussian distribution with small skews left or right except for oldpeak.   \n",
    "__Again there are some outliers espacially a strong one in Cholesterol worth to take a look later.__"
   ]
  },
  {
   "cell_type": "markdown",
   "id": "15fc6bdf",
   "metadata": {},
   "source": [
    "# 2. Bivariate Analysis\n",
    "\n",
    "> Bivariate analysis is one of the simplest forms of quantitative analysis. It involves the analysis of two variables, for the purpose of determining the empirical relationship between them. Bivariate analysis can be helpful in testing simple hypotheses of association.\n",
    "\n",
    "In this part we goin to take our variables and compare them against our target condition which is if the observed patient has disease or not."
   ]
  },
  {
   "cell_type": "markdown",
   "id": "ef213e7a",
   "metadata": {},
   "source": [
    "## 2.1 Categorical Data vs Target"
   ]
  },
  {
   "cell_type": "code",
   "execution_count": null,
   "id": "49ce81e5",
   "metadata": {},
   "outputs": [],
   "source": [
    "# Categorical data vs condition:\n",
    "ctg_view(raw_data, categorical[:-1], hue='condition', rows=4, columns=2)"
   ]
  },
  {
   "cell_type": "markdown",
   "id": "94c313ac",
   "metadata": {},
   "source": [
    "### Here we can do these observations:\n",
    "\n",
    "- Males are much more likely for heart diseases.\n",
    "- Chest pain type is very subjective and has no direct relation on the outcome, asymptomatic chest pains having highest disease outcome.\n",
    "- Blood sugar has no direct effect on the disease.\n",
    "- Rest ECG results showing no direct results but having normal ECG is pretty good sign. Even though it's pretty rare in the data, if you ST-T wave abnormality you are 3 times more likely to have heart disease.\n",
    "- Having exercise induced angina is pretty strong indicator for heart disease, patients are almost 3 times more likely to have disease if they have exercise induced angina. Meanwhile it's less than half for not having it.\n",
    "- Patients who had flat slope distribution are more likely to have disease.\n",
    "- Number of major vessels observed seems on similar levels for patients who have disease but 0 observations is good sign for not having disease.\n",
    "- Having defected thalium test results is pretty strong indicator for heart disease."
   ]
  },
  {
   "cell_type": "markdown",
   "id": "e0215a53",
   "metadata": {},
   "source": [
    "## 2.2 Numerical Data vs Target"
   ]
  },
  {
   "cell_type": "code",
   "execution_count": null,
   "id": "3b039f13",
   "metadata": {},
   "outputs": [],
   "source": [
    "# Displaying numeric distribution vs condition:\n",
    "\n",
    "fig = plt.figure(constrained_layout=True, figsize=(16, 12))\n",
    "grid = gridspec.GridSpec(ncols=4, nrows=3, figure=fig)\n",
    "\n",
    "\n",
    "ax1 = fig.add_subplot(grid[0, :2])\n",
    "ax1.set_title('resting_blood_pressure Distribution')\n",
    "sns.boxplot(x='condition',\n",
    "                    y='resting_blood_pressure',\n",
    "                    data=raw_data,\n",
    "                    palette=cust_palt[2:],\n",
    "                    ax=ax1)\n",
    "sns.stripplot(x='condition',\n",
    "                    y='resting_blood_pressure',\n",
    "                    data=raw_data,\n",
    "                    palette=cust_palt[:2],\n",
    "                    ax=ax1)\n",
    "\n",
    "\n",
    "ax2 = fig.add_subplot(grid[0, 2:])\n",
    "ax2.set_title('cholesterol Distribution')\n",
    "sns.boxplot(x='condition',\n",
    "                    y='cholesterol',\n",
    "                    data=raw_data,\n",
    "                    palette=cust_palt[2:],\n",
    "                    ax=ax2)\n",
    "sns.stripplot(x='condition',\n",
    "                    y='cholesterol',\n",
    "                    data=raw_data,\n",
    "                    palette=cust_palt[:2],\n",
    "                    ax=ax2)\n",
    "\n",
    "\n",
    "ax3 = fig.add_subplot(grid[1, :2])\n",
    "ax3.set_title('max_heart_rate_achieved Distribution')\n",
    "sns.boxplot(x='condition',\n",
    "                    y='max_heart_rate_achieved',\n",
    "                    data=raw_data,\n",
    "                    palette=cust_palt[2:],\n",
    "                    ax=ax3)\n",
    "sns.stripplot(x='condition',\n",
    "                    y='max_heart_rate_achieved',\n",
    "                    data=raw_data,\n",
    "                    palette=cust_palt[:2],\n",
    "                    ax=ax3)\n",
    "\n",
    "\n",
    "ax4 = fig.add_subplot(grid[1, 2:])\n",
    "ax4.set_title('st_depression Distribution')\n",
    "sns.boxplot(x='condition',\n",
    "                    y='st_depression',\n",
    "                    data=raw_data,\n",
    "                    palette=cust_palt[2:],\n",
    "                    ax=ax4)\n",
    "sns.stripplot(x='condition',\n",
    "                    y='st_depression',\n",
    "                    data=raw_data,\n",
    "                    palette=cust_palt[:2],\n",
    "                    ax=ax4)\n",
    "\n",
    "\n",
    "ax5 = fig.add_subplot(grid[2, :])\n",
    "ax5.set_title('age Distribution')\n",
    "sns.boxplot(x='condition',\n",
    "                    y='age',\n",
    "                    data=raw_data,\n",
    "                    palette=cust_palt[2:],\n",
    "                    ax=ax5)\n",
    "sns.stripplot(x='condition',\n",
    "                    y='age',\n",
    "                    data=raw_data,\n",
    "                    palette=cust_palt[:2],\n",
    "                    ax=ax5)\n",
    "\n",
    "\n",
    "plt.show()"
   ]
  },
  {
   "cell_type": "markdown",
   "id": "af1dde54",
   "metadata": {},
   "source": [
    "### Here we can do these observations:\n",
    "\n",
    "- Having higher resting blood pressure shows you are little bit more likely to have heart disease.\n",
    "- Again same for Cholesterol, it's not strong indicator but patients are little bit more likely to have disease with high cholesterol. There's is also one outlier there with no disease, pretty interesting.\n",
    "- I find max heart rate distribution a bit interesting, expecting the other way around but it might be due to testing conditions and if you have normal results on ECG while exercising instructors might be increasing your excercise density?\n",
    "- It's pretty clear that heart disease likelihood increases with ST depression levels...\n",
    "- Lastly older patients are more likely to have heart disease."
   ]
  },
  {
   "cell_type": "markdown",
   "id": "fb328149",
   "metadata": {},
   "source": [
    "# 3. Multivariate Analysis\n",
    "\n",
    "> Multivariate analysis (MVA) is based on the principles of multivariate statistics, which involves observation and analysis of more than one statistical outcome variable at a time. Typically, MVA is used to address the situations where multiple measurements are made on each experimental unit and the relations among these measurements and their structures are important."
   ]
  },
  {
   "cell_type": "code",
   "execution_count": null,
   "id": "28f5b83b",
   "metadata": {},
   "outputs": [],
   "source": [
    "# Numeric data vs each other and condition:\n",
    "\n",
    "plt.figure(figsize=(16, 10))\n",
    "sns.pairplot(raw_data[\n",
    "                          [\n",
    "                           'resting_blood_pressure','cholesterol',\n",
    "                           'max_heart_rate_achieved','st_depression',\n",
    "                           'age', 'condition'\n",
    "                          ]\n",
    "                      ],\n",
    "             hue='condition', \n",
    "             palette=cust_palt,\n",
    "             markers=['o','D'], plot_kws=dict(s=25, alpha=0.75)\n",
    ")\n",
    "\n",
    "plt.show()"
   ]
  },
  {
   "cell_type": "markdown",
   "id": "7aad2096",
   "metadata": {},
   "source": [
    "## 3.1 Cholesterol, Max Heart Rate, Age, St Depression vs Target\n",
    "\n",
    "Here I tried to fit every single numerical feature into one graph so we can have some visualized version of the effects. 3D scatterplot is great tool for doing that.\n",
    "\n",
    "On X axis we have __Cholesterol levels__, on Y __Max Heart Rate__ presented and Z axis is patient __Age__, marker sizes are based on __ST_Depression__ levels and coloring based on the patient condition."
   ]
  },
  {
   "cell_type": "code",
   "execution_count": null,
   "id": "70b34b41",
   "metadata": {},
   "outputs": [],
   "source": [
    "# 3D scatterplot of numeric data:\n",
    "\n",
    "fig = px.scatter_3d(raw_data, x='cholesterol', y='max_heart_rate_achieved', z='age', \n",
    "                    size='st_depression',\n",
    "                    color='condition', opacity=0.8)\n",
    "\n",
    "fig.update_layout(margin=dict(l=0, r=0, b=0, t=0))\n",
    "fig.show()"
   ]
  },
  {
   "cell_type": "markdown",
   "id": "b246e99a",
   "metadata": {},
   "source": [
    "# 4. Inspecting Age Closer"
   ]
  },
  {
   "cell_type": "code",
   "execution_count": null,
   "id": "8d7e2754",
   "metadata": {},
   "outputs": [],
   "source": [
    "ctn_freq(raw_data, cols=['st_depression','max_heart_rate_achieved',\n",
    "                         'resting_blood_pressure','cholesterol'], \n",
    "         xaxi='age', hue='condition', rows=4, columns=1)"
   ]
  },
  {
   "cell_type": "markdown",
   "id": "6685b3ef",
   "metadata": {},
   "source": [
    "# 5. Correlations\n",
    "We're going to use pearson correlation for to find linear relations between features, heatmap is decent way to show these relations."
   ]
  },
  {
   "cell_type": "code",
   "execution_count": null,
   "id": "6c33dfc3",
   "metadata": {},
   "outputs": [],
   "source": [
    "raw_heat = pd.read_csv(os.path.join(data_path, raw_data_filename))\n",
    "raw_heat"
   ]
  },
  {
   "cell_type": "code",
   "execution_count": null,
   "id": "475741e7",
   "metadata": {},
   "outputs": [],
   "source": [
    "# Correlation heatmap between variables:\n",
    "\n",
    "sns.set(font_scale=1.1)\n",
    "correlation_train = raw_heat.corr()\n",
    "\n",
    "mask = np.triu(correlation_train.corr())\n",
    "plt.figure(figsize=(20, 12))\n",
    "\n",
    "sns.heatmap(correlation_train,\n",
    "            annot=True,\n",
    "            fmt='.3f',\n",
    "            cmap='YlGnBu',\n",
    "            linewidths=1,\n",
    "            cbar=True)\n",
    "\n",
    "plt.show()"
   ]
  },
  {
   "cell_type": "code",
   "execution_count": null,
   "id": "ca8f8480",
   "metadata": {},
   "outputs": [],
   "source": [
    "# Top correlated variables vs condition:\n",
    "\n",
    "correlations = raw_heat.corrwith(raw_heat['condition']).iloc[:-1].to_frame()\n",
    "correlations['Abs Corr'] = correlations[0].abs()\n",
    "sorted_correlations = correlations.sort_values('Abs Corr', ascending=False)['Abs Corr']\n",
    "\n",
    "fig, ax = plt.subplots(figsize=(7,4))\n",
    "sns.heatmap(sorted_correlations.to_frame()[sorted_correlations>=.4], \n",
    "            cmap='YlGnBu', \n",
    "            annot=True, \n",
    "            vmin=-1, \n",
    "            vmax=1,\n",
    "            linewidths=1,\n",
    "            fmt='.5f', \n",
    "            ax=ax);"
   ]
  }
 ],
 "metadata": {
  "kernelspec": {
   "display_name": "Python 3 (ipykernel)",
   "language": "python",
   "name": "python3"
  },
  "language_info": {
   "codemirror_mode": {
    "name": "ipython",
    "version": 3
   },
   "file_extension": ".py",
   "mimetype": "text/x-python",
   "name": "python",
   "nbconvert_exporter": "python",
   "pygments_lexer": "ipython3",
   "version": "3.10.7"
  },
  "latex_envs": {
   "LaTeX_envs_menu_present": true,
   "autoclose": false,
   "autocomplete": true,
   "bibliofile": "biblio.bib",
   "cite_by": "apalike",
   "current_citInitial": 1,
   "eqLabelWithNumbers": true,
   "eqNumInitial": 1,
   "hotkeys": {
    "equation": "Ctrl-E",
    "itemize": "Ctrl-I"
   },
   "labels_anchors": false,
   "latex_user_defs": false,
   "report_style_numbering": false,
   "user_envs_cfg": false
  },
  "nbTranslate": {
   "displayLangs": [
    "*"
   ],
   "hotkey": "alt-t",
   "langInMainMenu": true,
   "sourceLang": "en",
   "targetLang": "fr",
   "useGoogleTranslate": true
  },
  "toc": {
   "base_numbering": 1,
   "nav_menu": {},
   "number_sections": true,
   "sideBar": true,
   "skip_h1_title": false,
   "title_cell": "Table of Contents",
   "title_sidebar": "Contents",
   "toc_cell": false,
   "toc_position": {},
   "toc_section_display": true,
   "toc_window_display": false
  },
  "varInspector": {
   "cols": {
    "lenName": 16,
    "lenType": 16,
    "lenVar": 40
   },
   "kernels_config": {
    "python": {
     "delete_cmd_postfix": "",
     "delete_cmd_prefix": "del ",
     "library": "var_list.py",
     "varRefreshCmd": "print(var_dic_list())"
    },
    "r": {
     "delete_cmd_postfix": ") ",
     "delete_cmd_prefix": "rm(",
     "library": "var_list.r",
     "varRefreshCmd": "cat(var_dic_list()) "
    }
   },
   "types_to_exclude": [
    "module",
    "function",
    "builtin_function_or_method",
    "instance",
    "_Feature"
   ],
   "window_display": false
  }
 },
 "nbformat": 4,
 "nbformat_minor": 5
}
